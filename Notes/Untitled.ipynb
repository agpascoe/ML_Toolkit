{
 "cells": [
  {
   "cell_type": "markdown",
   "id": "a083ee43",
   "metadata": {},
   "source": [
    "# Pandas key methods\n"
   ]
  },
  {
   "cell_type": "code",
   "execution_count": 1,
   "id": "fd9b2277",
   "metadata": {},
   "outputs": [],
   "source": [
    "\n",
    "\n",
    "import pandas as pd\n",
    "import numpy as np\n",
    "import torch\n"
   ]
  },
  {
   "cell_type": "code",
   "execution_count": 43,
   "id": "06c8c871",
   "metadata": {},
   "outputs": [],
   "source": [
    "A = np.fromiter((x+1 for x in range(9)), float)"
   ]
  },
  {
   "cell_type": "code",
   "execution_count": 44,
   "id": "f30a9d4b",
   "metadata": {},
   "outputs": [
    {
     "data": {
      "text/plain": [
       "array([[0., 0., 0.],\n",
       "       [0., 0., 0.],\n",
       "       [0., 0., 0.]])"
      ]
     },
     "execution_count": 44,
     "metadata": {},
     "output_type": "execute_result"
    }
   ],
   "source": [
    "np.ndarray(shape=(3,3), dtype=float)"
   ]
  },
  {
   "cell_type": "code",
   "execution_count": 45,
   "id": "d84b0c4b",
   "metadata": {},
   "outputs": [
    {
     "data": {
      "text/plain": [
       "array([[0., 0., 0.],\n",
       "       [0., 0., 0.],\n",
       "       [0., 0., 0.]])"
      ]
     },
     "execution_count": 45,
     "metadata": {},
     "output_type": "execute_result"
    }
   ],
   "source": [
    "np.zeros(shape=(3,3))"
   ]
  },
  {
   "cell_type": "code",
   "execution_count": 48,
   "id": "60cd1cfb",
   "metadata": {},
   "outputs": [],
   "source": [
    "B=torch.tensor(A)"
   ]
  },
  {
   "cell_type": "code",
   "execution_count": 50,
   "id": "f9c87099",
   "metadata": {},
   "outputs": [
    {
     "data": {
      "text/plain": [
       "(9,)"
      ]
     },
     "execution_count": 50,
     "metadata": {},
     "output_type": "execute_result"
    }
   ],
   "source": [
    "A.shape\n"
   ]
  },
  {
   "cell_type": "code",
   "execution_count": 51,
   "id": "e9639f9d",
   "metadata": {},
   "outputs": [
    {
     "data": {
      "text/plain": [
       "torch.Size([9])"
      ]
     },
     "execution_count": 51,
     "metadata": {},
     "output_type": "execute_result"
    }
   ],
   "source": [
    "B.shape\n"
   ]
  },
  {
   "cell_type": "code",
   "execution_count": null,
   "id": "1af9471f",
   "metadata": {},
   "outputs": [],
   "source": []
  }
 ],
 "metadata": {
  "kernelspec": {
   "display_name": "Python 3 (ipykernel)",
   "language": "python",
   "name": "python3"
  },
  "language_info": {
   "codemirror_mode": {
    "name": "ipython",
    "version": 3
   },
   "file_extension": ".py",
   "mimetype": "text/x-python",
   "name": "python",
   "nbconvert_exporter": "python",
   "pygments_lexer": "ipython3",
   "version": "3.7.13"
  }
 },
 "nbformat": 4,
 "nbformat_minor": 5
}
